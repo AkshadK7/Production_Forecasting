{
  "nbformat": 4,
  "nbformat_minor": 0,
  "metadata": {
    "colab": {
      "name": "Production_Forecast.ipynb",
      "provenance": [],
      "collapsed_sections": [],
      "include_colab_link": true
    },
    "kernelspec": {
      "name": "python3",
      "display_name": "Python 3"
    },
    "language_info": {
      "name": "python"
    }
  },
  "cells": [
    {
      "cell_type": "markdown",
      "metadata": {
        "id": "view-in-github",
        "colab_type": "text"
      },
      "source": [
        "<a href=\"https://colab.research.google.com/github/AkshadK7/Production_Forecasting/blob/main/Production_Forecast.ipynb\" target=\"_parent\"><img src=\"https://colab.research.google.com/assets/colab-badge.svg\" alt=\"Open In Colab\"/></a>"
      ]
    },
    {
      "cell_type": "markdown",
      "source": [
        "© **Copyright 2021** <br>\n",
        "**Name :** Akshad Kolhatkar"
      ],
      "metadata": {
        "id": "1N0ou1FT7w7G"
      }
    },
    {
      "cell_type": "markdown",
      "source": [
        "## Importing the Modules"
      ],
      "metadata": {
        "id": "cVWEjYgv71yM"
      }
    },
    {
      "cell_type": "code",
      "metadata": {
        "id": "nRSlxT4q5EHJ"
      },
      "source": [
        "import pandas as pd\n",
        "import numpy as np\n",
        "import matplotlib.pyplot as plt"
      ],
      "execution_count": 1,
      "outputs": []
    },
    {
      "cell_type": "code",
      "metadata": {
        "id": "2fRF6mEW5QbK"
      },
      "source": [
        "df = pd.read_csv('/content/energy_produce_dataset.csv',index_col='Date',parse_dates=True)\n",
        "df.index.freq='MS'"
      ],
      "execution_count": 2,
      "outputs": []
    },
    {
      "cell_type": "code",
      "metadata": {
        "id": "agtLk7dO5SsM",
        "colab": {
          "base_uri": "https://localhost:8080/",
          "height": 238
        },
        "outputId": "728aba9e-afa5-4df0-d32c-24ff50e4cb2c"
      },
      "source": [
        "df.head()"
      ],
      "execution_count": 3,
      "outputs": [
        {
          "output_type": "execute_result",
          "data": {
            "text/html": [
              "\n",
              "  <div id=\"df-6315d2a3-f913-401c-91c5-1237f7d5153e\">\n",
              "    <div class=\"colab-df-container\">\n",
              "      <div>\n",
              "<style scoped>\n",
              "    .dataframe tbody tr th:only-of-type {\n",
              "        vertical-align: middle;\n",
              "    }\n",
              "\n",
              "    .dataframe tbody tr th {\n",
              "        vertical-align: top;\n",
              "    }\n",
              "\n",
              "    .dataframe thead th {\n",
              "        text-align: right;\n",
              "    }\n",
              "</style>\n",
              "<table border=\"1\" class=\"dataframe\">\n",
              "  <thead>\n",
              "    <tr style=\"text-align: right;\">\n",
              "      <th></th>\n",
              "      <th>Production</th>\n",
              "    </tr>\n",
              "    <tr>\n",
              "      <th>Date</th>\n",
              "      <th></th>\n",
              "    </tr>\n",
              "  </thead>\n",
              "  <tbody>\n",
              "    <tr>\n",
              "      <th>1962-01-01</th>\n",
              "      <td>589</td>\n",
              "    </tr>\n",
              "    <tr>\n",
              "      <th>1962-02-01</th>\n",
              "      <td>561</td>\n",
              "    </tr>\n",
              "    <tr>\n",
              "      <th>1962-03-01</th>\n",
              "      <td>640</td>\n",
              "    </tr>\n",
              "    <tr>\n",
              "      <th>1962-04-01</th>\n",
              "      <td>656</td>\n",
              "    </tr>\n",
              "    <tr>\n",
              "      <th>1962-05-01</th>\n",
              "      <td>727</td>\n",
              "    </tr>\n",
              "  </tbody>\n",
              "</table>\n",
              "</div>\n",
              "      <button class=\"colab-df-convert\" onclick=\"convertToInteractive('df-6315d2a3-f913-401c-91c5-1237f7d5153e')\"\n",
              "              title=\"Convert this dataframe to an interactive table.\"\n",
              "              style=\"display:none;\">\n",
              "        \n",
              "  <svg xmlns=\"http://www.w3.org/2000/svg\" height=\"24px\"viewBox=\"0 0 24 24\"\n",
              "       width=\"24px\">\n",
              "    <path d=\"M0 0h24v24H0V0z\" fill=\"none\"/>\n",
              "    <path d=\"M18.56 5.44l.94 2.06.94-2.06 2.06-.94-2.06-.94-.94-2.06-.94 2.06-2.06.94zm-11 1L8.5 8.5l.94-2.06 2.06-.94-2.06-.94L8.5 2.5l-.94 2.06-2.06.94zm10 10l.94 2.06.94-2.06 2.06-.94-2.06-.94-.94-2.06-.94 2.06-2.06.94z\"/><path d=\"M17.41 7.96l-1.37-1.37c-.4-.4-.92-.59-1.43-.59-.52 0-1.04.2-1.43.59L10.3 9.45l-7.72 7.72c-.78.78-.78 2.05 0 2.83L4 21.41c.39.39.9.59 1.41.59.51 0 1.02-.2 1.41-.59l7.78-7.78 2.81-2.81c.8-.78.8-2.07 0-2.86zM5.41 20L4 18.59l7.72-7.72 1.47 1.35L5.41 20z\"/>\n",
              "  </svg>\n",
              "      </button>\n",
              "      \n",
              "  <style>\n",
              "    .colab-df-container {\n",
              "      display:flex;\n",
              "      flex-wrap:wrap;\n",
              "      gap: 12px;\n",
              "    }\n",
              "\n",
              "    .colab-df-convert {\n",
              "      background-color: #E8F0FE;\n",
              "      border: none;\n",
              "      border-radius: 50%;\n",
              "      cursor: pointer;\n",
              "      display: none;\n",
              "      fill: #1967D2;\n",
              "      height: 32px;\n",
              "      padding: 0 0 0 0;\n",
              "      width: 32px;\n",
              "    }\n",
              "\n",
              "    .colab-df-convert:hover {\n",
              "      background-color: #E2EBFA;\n",
              "      box-shadow: 0px 1px 2px rgba(60, 64, 67, 0.3), 0px 1px 3px 1px rgba(60, 64, 67, 0.15);\n",
              "      fill: #174EA6;\n",
              "    }\n",
              "\n",
              "    [theme=dark] .colab-df-convert {\n",
              "      background-color: #3B4455;\n",
              "      fill: #D2E3FC;\n",
              "    }\n",
              "\n",
              "    [theme=dark] .colab-df-convert:hover {\n",
              "      background-color: #434B5C;\n",
              "      box-shadow: 0px 1px 3px 1px rgba(0, 0, 0, 0.15);\n",
              "      filter: drop-shadow(0px 1px 2px rgba(0, 0, 0, 0.3));\n",
              "      fill: #FFFFFF;\n",
              "    }\n",
              "  </style>\n",
              "\n",
              "      <script>\n",
              "        const buttonEl =\n",
              "          document.querySelector('#df-6315d2a3-f913-401c-91c5-1237f7d5153e button.colab-df-convert');\n",
              "        buttonEl.style.display =\n",
              "          google.colab.kernel.accessAllowed ? 'block' : 'none';\n",
              "\n",
              "        async function convertToInteractive(key) {\n",
              "          const element = document.querySelector('#df-6315d2a3-f913-401c-91c5-1237f7d5153e');\n",
              "          const dataTable =\n",
              "            await google.colab.kernel.invokeFunction('convertToInteractive',\n",
              "                                                     [key], {});\n",
              "          if (!dataTable) return;\n",
              "\n",
              "          const docLinkHtml = 'Like what you see? Visit the ' +\n",
              "            '<a target=\"_blank\" href=https://colab.research.google.com/notebooks/data_table.ipynb>data table notebook</a>'\n",
              "            + ' to learn more about interactive tables.';\n",
              "          element.innerHTML = '';\n",
              "          dataTable['output_type'] = 'display_data';\n",
              "          await google.colab.output.renderOutput(dataTable, element);\n",
              "          const docLink = document.createElement('div');\n",
              "          docLink.innerHTML = docLinkHtml;\n",
              "          element.appendChild(docLink);\n",
              "        }\n",
              "      </script>\n",
              "    </div>\n",
              "  </div>\n",
              "  "
            ],
            "text/plain": [
              "            Production\n",
              "Date                  \n",
              "1962-01-01         589\n",
              "1962-02-01         561\n",
              "1962-03-01         640\n",
              "1962-04-01         656\n",
              "1962-05-01         727"
            ]
          },
          "metadata": {},
          "execution_count": 3
        }
      ]
    },
    {
      "cell_type": "code",
      "metadata": {
        "colab": {
          "base_uri": "https://localhost:8080/",
          "height": 406
        },
        "id": "b1h7L_TG5tJK",
        "outputId": "75038f8d-f6d6-4da7-97ec-99ba95456fc5"
      },
      "source": [
        "df.plot(figsize=(12,6))"
      ],
      "execution_count": 4,
      "outputs": [
        {
          "output_type": "execute_result",
          "data": {
            "text/plain": [
              "<matplotlib.axes._subplots.AxesSubplot at 0x7f56205115d0>"
            ]
          },
          "metadata": {},
          "execution_count": 4
        },
        {
          "output_type": "display_data",
          "data": {
            "image/png": "[encoded data removed]",
            "text/plain": [
              "<Figure size 864x432 with 1 Axes>"
            ]
          },
          "metadata": {
            "needs_background": "light"
          }
        }
      ]
    },
    {
      "cell_type": "markdown",
      "source": [
        "## Time Series Analysis"
      ],
      "metadata": {
        "id": "_s7LBf1v8Dfb"
      }
    },
    {
      "cell_type": "code",
      "metadata": {
        "id": "jcew1g4f6L_X",
        "colab": {
          "base_uri": "https://localhost:8080/"
        },
        "outputId": "394f96ca-46b6-47a6-e70d-2d57554776ce"
      },
      "source": [
        "from statsmodels.tsa.seasonal import seasonal_decompose"
      ],
      "execution_count": 5,
      "outputs": [
        {
          "output_type": "stream",
          "name": "stderr",
          "text": [
            "/usr/local/lib/python3.7/dist-packages/statsmodels/tools/_testing.py:19: FutureWarning: pandas.util.testing is deprecated. Use the functions in the public API at pandas.testing instead.\n",
            "  import pandas.util.testing as tm\n"
          ]
        }
      ]
    },
    {
      "cell_type": "code",
      "metadata": {
        "colab": {
          "base_uri": "https://localhost:8080/",
          "height": 297
        },
        "id": "zfTZaeEH6Wpn",
        "outputId": "765a9c2b-4f54-4e68-dbea-961fc4a78703"
      },
      "source": [
        "results = seasonal_decompose(df['Production'])\n",
        "results.plot();"
      ],
      "execution_count": 6,
      "outputs": [
        {
          "output_type": "display_data",
          "data": {
            "image/png": "[encoded data removed]",
            "text/plain": [
              "<Figure size 432x288 with 4 Axes>"
            ]
          },
          "metadata": {
            "needs_background": "light"
          }
        }
      ]
    },
    {
      "cell_type": "code",
      "metadata": {
        "colab": {
          "base_uri": "https://localhost:8080/"
        },
        "id": "IzkqCHh_6lfn",
        "outputId": "1cd08d43-147e-4635-e821-26507be786e0"
      },
      "source": [
        "len(df)"
      ],
      "execution_count": 7,
      "outputs": [
        {
          "output_type": "execute_result",
          "data": {
            "text/plain": [
              "168"
            ]
          },
          "metadata": {},
          "execution_count": 7
        }
      ]
    },
    {
      "cell_type": "markdown",
      "source": [
        "## Data Preprocessing"
      ],
      "metadata": {
        "id": "wZlXtO_H8UMS"
      }
    },
    {
      "cell_type": "code",
      "metadata": {
        "id": "1NoWcZEK6rPb"
      },
      "source": [
        "train = df.iloc[:156]\n",
        "test = df.iloc[156:]"
      ],
      "execution_count": 8,
      "outputs": []
    },
    {
      "cell_type": "code",
      "metadata": {
        "id": "dtAgIrE66u6x"
      },
      "source": [
        "from sklearn.preprocessing import MinMaxScaler\n",
        "scaler = MinMaxScaler()"
      ],
      "execution_count": 9,
      "outputs": []
    },
    {
      "cell_type": "code",
      "metadata": {
        "colab": {
          "base_uri": "https://localhost:8080/"
        },
        "id": "UDQODrt4D5NK",
        "outputId": "2f0630f3-6f42-4e6a-8b1c-398d0e8491e8"
      },
      "source": [
        "df.head(),df.tail()"
      ],
      "execution_count": 10,
      "outputs": [
        {
          "output_type": "execute_result",
          "data": {
            "text/plain": [
              "(            Production\n",
              " Date                  \n",
              " 1962-01-01         589\n",
              " 1962-02-01         561\n",
              " 1962-03-01         640\n",
              " 1962-04-01         656\n",
              " 1962-05-01         727,             Production\n",
              " Date                  \n",
              " 1975-08-01         858\n",
              " 1975-09-01         817\n",
              " 1975-10-01         827\n",
              " 1975-11-01         797\n",
              " 1975-12-01         843)"
            ]
          },
          "metadata": {},
          "execution_count": 10
        }
      ]
    },
    {
      "cell_type": "code",
      "metadata": {
        "id": "ijgmVYgC6zBz"
      },
      "source": [
        "scaler.fit(train)\n",
        "scaled_train = scaler.transform(train)\n",
        "scaled_test = scaler.transform(test)"
      ],
      "execution_count": 11,
      "outputs": []
    },
    {
      "cell_type": "code",
      "metadata": {
        "colab": {
          "base_uri": "https://localhost:8080/"
        },
        "id": "BrdKbJ3g6-Et",
        "outputId": "f369d077-07b5-4be4-9c4b-146595d16fa6"
      },
      "source": [
        "scaled_train[:10]"
      ],
      "execution_count": 12,
      "outputs": [
        {
          "output_type": "execute_result",
          "data": {
            "text/plain": [
              "array([[0.08653846],\n",
              "       [0.01923077],\n",
              "       [0.20913462],\n",
              "       [0.24759615],\n",
              "       [0.41826923],\n",
              "       [0.34615385],\n",
              "       [0.20913462],\n",
              "       [0.11057692],\n",
              "       [0.03605769],\n",
              "       [0.05769231]])"
            ]
          },
          "metadata": {},
          "execution_count": 12
        }
      ]
    },
    {
      "cell_type": "code",
      "metadata": {
        "id": "0xryZ7rR62y5"
      },
      "source": [
        "from keras.preprocessing.sequence import TimeseriesGenerator"
      ],
      "execution_count": 13,
      "outputs": []
    },
    {
      "cell_type": "code",
      "metadata": {
        "id": "CqyTKCVt69Z9"
      },
      "source": [
        "# define generator\n",
        "n_input = 3\n",
        "n_features = 1\n",
        "generator = TimeseriesGenerator(scaled_train, scaled_train, length=n_input, batch_size=1)"
      ],
      "execution_count": 14,
      "outputs": []
    },
    {
      "cell_type": "code",
      "metadata": {
        "colab": {
          "base_uri": "https://localhost:8080/"
        },
        "id": "ip6y5Ene7OM7",
        "outputId": "0871b0e4-9b87-4159-fa9b-7d6908eea63a"
      },
      "source": [
        "X,y = generator[0]\n",
        "print(f'Given the Array: \\n{X.flatten()}')\n",
        "print(f'Predict this y: \\n {y}')"
      ],
      "execution_count": 15,
      "outputs": [
        {
          "output_type": "stream",
          "name": "stdout",
          "text": [
            "Given the Array: \n",
            "[0.08653846 0.01923077 0.20913462]\n",
            "Predict this y: \n",
            " [[0.24759615]]\n"
          ]
        }
      ]
    },
    {
      "cell_type": "code",
      "metadata": {
        "colab": {
          "base_uri": "https://localhost:8080/"
        },
        "id": "bQyGmvsi8HyR",
        "outputId": "4b43d9cb-cdf9-4d8f-a074-4192ef1dec24"
      },
      "source": [
        "X.shape"
      ],
      "execution_count": 16,
      "outputs": [
        {
          "output_type": "execute_result",
          "data": {
            "text/plain": [
              "(1, 3, 1)"
            ]
          },
          "metadata": {},
          "execution_count": 16
        }
      ]
    },
    {
      "cell_type": "code",
      "metadata": {
        "id": "jm-T4H4I7UaV"
      },
      "source": [
        "# We do the same thing, but now instead for 12 months\n",
        "n_input = 12\n",
        "generator = TimeseriesGenerator(scaled_train, scaled_train, length=n_input, batch_size=1)"
      ],
      "execution_count": 17,
      "outputs": []
    },
    {
      "cell_type": "markdown",
      "source": [
        "## Time Series Forecasting"
      ],
      "metadata": {
        "id": "WSrpyEGP8ZaY"
      }
    },
    {
      "cell_type": "code",
      "metadata": {
        "id": "bzIs_l_k7Zqg"
      },
      "source": [
        "from keras.models import Sequential\n",
        "from keras.layers import Dense\n",
        "from keras.layers import LSTM"
      ],
      "execution_count": 18,
      "outputs": []
    },
    {
      "cell_type": "code",
      "metadata": {
        "id": "eJa-wFQf7jw6"
      },
      "source": [
        "# define model\n",
        "model = Sequential()\n",
        "model.add(LSTM(100, activation='relu', input_shape=(n_input, n_features)))\n",
        "model.add(Dense(1))\n",
        "model.compile(optimizer='adam', loss='mse')"
      ],
      "execution_count": 19,
      "outputs": []
    },
    {
      "cell_type": "code",
      "metadata": {
        "colab": {
          "base_uri": "https://localhost:8080/"
        },
        "id": "7i4ucUNv7lbk",
        "outputId": "2e2c8499-fa96-4d96-e638-69b79de3aa82"
      },
      "source": [
        "model.summary()"
      ],
      "execution_count": 20,
      "outputs": [
        {
          "output_type": "stream",
          "name": "stdout",
          "text": [
            "Model: \"sequential\"\n",
            "_________________________________________________________________\n",
            " Layer (type)                Output Shape              Param #   \n",
            "=================================================================\n",
            " lstm (LSTM)                 (None, 100)               40800     \n",
            "                                                                 \n",
            " dense (Dense)               (None, 1)                 101       \n",
            "                                                                 \n",
            "=================================================================\n",
            "Total params: 40,901\n",
            "Trainable params: 40,901\n",
            "Non-trainable params: 0\n",
            "_________________________________________________________________\n"
          ]
        }
      ]
    },
    {
      "cell_type": "code",
      "metadata": {
        "colab": {
          "base_uri": "https://localhost:8080/"
        },
        "id": "p8yqUZaz7nwp",
        "outputId": "30fe0750-2e81-458c-e6f4-1f012eb12d9b"
      },
      "source": [
        "# fit model\n",
        "model.fit(generator,epochs=50)"
      ],
      "execution_count": 21,
      "outputs": [
        {
          "output_type": "stream",
          "name": "stdout",
          "text": [
            "Epoch 1/50\n",
            "144/144 [==============================] - 2s 5ms/step - loss: 0.0385\n",
            "Epoch 2/50\n",
            "144/144 [==============================] - 1s 5ms/step - loss: 0.0240\n",
            "Epoch 3/50\n",
            "144/144 [==============================] - 1s 5ms/step - loss: 0.0151\n",
            "Epoch 4/50\n",
            "144/144 [==============================] - 1s 6ms/step - loss: 0.0203\n",
            "Epoch 5/50\n",
            "144/144 [==============================] - 1s 5ms/step - loss: 0.0110\n",
            "Epoch 6/50\n",
            "144/144 [==============================] - 1s 5ms/step - loss: 0.0073\n",
            "Epoch 7/50\n",
            "144/144 [==============================] - 1s 6ms/step - loss: 0.0065\n",
            "Epoch 8/50\n",
            "144/144 [==============================] - 1s 5ms/step - loss: 0.0053\n",
            "Epoch 9/50\n",
            "144/144 [==============================] - 1s 5ms/step - loss: 0.0050\n",
            "Epoch 10/50\n",
            "144/144 [==============================] - 1s 5ms/step - loss: 0.0053\n",
            "Epoch 11/50\n",
            "144/144 [==============================] - 1s 5ms/step - loss: 0.0049\n",
            "Epoch 12/50\n",
            "144/144 [==============================] - 1s 5ms/step - loss: 0.0049\n",
            "Epoch 13/50\n",
            "144/144 [==============================] - 1s 5ms/step - loss: 0.0033\n",
            "Epoch 14/50\n",
            "144/144 [==============================] - 1s 5ms/step - loss: 0.0044\n",
            "Epoch 15/50\n",
            "144/144 [==============================] - 1s 5ms/step - loss: 0.0040\n",
            "Epoch 16/50\n",
            "144/144 [==============================] - 1s 5ms/step - loss: 0.0036\n",
            "Epoch 17/50\n",
            "144/144 [==============================] - 1s 5ms/step - loss: 0.0030\n",
            "Epoch 18/50\n",
            "144/144 [==============================] - 1s 5ms/step - loss: 0.0034\n",
            "Epoch 19/50\n",
            "144/144 [==============================] - 1s 5ms/step - loss: 0.0036\n",
            "Epoch 20/50\n",
            "144/144 [==============================] - 1s 5ms/step - loss: 0.0039\n",
            "Epoch 21/50\n",
            "144/144 [==============================] - 1s 5ms/step - loss: 0.0033\n",
            "Epoch 22/50\n",
            "144/144 [==============================] - 1s 5ms/step - loss: 0.0032\n",
            "Epoch 23/50\n",
            "144/144 [==============================] - 1s 5ms/step - loss: 0.0035\n",
            "Epoch 24/50\n",
            "144/144 [==============================] - 1s 5ms/step - loss: 0.0030\n",
            "Epoch 25/50\n",
            "144/144 [==============================] - 1s 5ms/step - loss: 0.0030\n",
            "Epoch 26/50\n",
            "144/144 [==============================] - 1s 5ms/step - loss: 0.0035\n",
            "Epoch 27/50\n",
            "144/144 [==============================] - 1s 5ms/step - loss: 0.0030\n",
            "Epoch 28/50\n",
            "144/144 [==============================] - 1s 5ms/step - loss: 0.0028\n",
            "Epoch 29/50\n",
            "144/144 [==============================] - 1s 5ms/step - loss: 0.0028\n",
            "Epoch 30/50\n",
            "144/144 [==============================] - 1s 5ms/step - loss: 0.0029\n",
            "Epoch 31/50\n",
            "144/144 [==============================] - 1s 5ms/step - loss: 0.0027\n",
            "Epoch 32/50\n",
            "144/144 [==============================] - 1s 5ms/step - loss: 0.0025\n",
            "Epoch 33/50\n",
            "144/144 [==============================] - 1s 10ms/step - loss: 0.0023\n",
            "Epoch 34/50\n",
            "144/144 [==============================] - 1s 10ms/step - loss: 0.0023\n",
            "Epoch 35/50\n",
            "144/144 [==============================] - 1s 5ms/step - loss: 0.0022\n",
            "Epoch 36/50\n",
            "144/144 [==============================] - 1s 5ms/step - loss: 0.0023\n",
            "Epoch 37/50\n",
            "144/144 [==============================] - 1s 5ms/step - loss: 0.0026\n",
            "Epoch 38/50\n",
            "144/144 [==============================] - 1s 6ms/step - loss: 0.0021\n",
            "Epoch 39/50\n",
            "144/144 [==============================] - 1s 5ms/step - loss: 0.0027\n",
            "Epoch 40/50\n",
            "144/144 [==============================] - 1s 5ms/step - loss: 0.0023\n",
            "Epoch 41/50\n",
            "144/144 [==============================] - 1s 5ms/step - loss: 0.0028\n",
            "Epoch 42/50\n",
            "144/144 [==============================] - 1s 5ms/step - loss: 0.0023\n",
            "Epoch 43/50\n",
            "144/144 [==============================] - 1s 5ms/step - loss: 0.0019\n",
            "Epoch 44/50\n",
            "144/144 [==============================] - 1s 5ms/step - loss: 0.0018\n",
            "Epoch 45/50\n",
            "144/144 [==============================] - 1s 5ms/step - loss: 0.0021\n",
            "Epoch 46/50\n",
            "144/144 [==============================] - 1s 5ms/step - loss: 0.0023\n",
            "Epoch 47/50\n",
            "144/144 [==============================] - 1s 5ms/step - loss: 0.0016\n",
            "Epoch 48/50\n",
            "144/144 [==============================] - 1s 5ms/step - loss: 0.0024\n",
            "Epoch 49/50\n",
            "144/144 [==============================] - 1s 5ms/step - loss: 0.0020\n",
            "Epoch 50/50\n",
            "144/144 [==============================] - 1s 5ms/step - loss: 0.0020\n"
          ]
        },
        {
          "output_type": "execute_result",
          "data": {
            "text/plain": [
              "<keras.callbacks.History at 0x7f559e3efc10>"
            ]
          },
          "metadata": {},
          "execution_count": 21
        }
      ]
    },
    {
      "cell_type": "code",
      "metadata": {
        "colab": {
          "base_uri": "https://localhost:8080/",
          "height": 286
        },
        "id": "OjDsOKR67rs8",
        "outputId": "f0e3c3ab-af60-4fc8-fce8-0a0398810ffe"
      },
      "source": [
        "loss_per_epoch = model.history.history['loss']\n",
        "plt.plot(range(len(loss_per_epoch)),loss_per_epoch)"
      ],
      "execution_count": 22,
      "outputs": [
        {
          "output_type": "execute_result",
          "data": {
            "text/plain": [
              "[<matplotlib.lines.Line2D at 0x7f559ca9ead0>]"
            ]
          },
          "metadata": {},
          "execution_count": 22
        },
        {
          "output_type": "display_data",
          "data": {
            "image/png": "[encoded data removed]",
            "text/plain": [
              "<Figure size 432x288 with 1 Axes>"
            ]
          },
          "metadata": {
            "needs_background": "light"
          }
        }
      ]
    },
    {
      "cell_type": "code",
      "metadata": {
        "id": "h6h-fell70_S"
      },
      "source": [
        "last_train_batch = scaled_train[-12:]"
      ],
      "execution_count": 23,
      "outputs": []
    },
    {
      "cell_type": "code",
      "metadata": {
        "id": "cwwv8O-p79bN"
      },
      "source": [
        "last_train_batch = last_train_batch.reshape((1, n_input, n_features))"
      ],
      "execution_count": 24,
      "outputs": []
    },
    {
      "cell_type": "code",
      "metadata": {
        "colab": {
          "base_uri": "https://localhost:8080/"
        },
        "id": "v-4WD4t78MpJ",
        "outputId": "94faeb17-19c0-4f4a-8177-3ca6eb810c80"
      },
      "source": [
        "model.predict(last_train_batch)"
      ],
      "execution_count": 25,
      "outputs": [
        {
          "output_type": "execute_result",
          "data": {
            "text/plain": [
              "array([[0.67526764]], dtype=float32)"
            ]
          },
          "metadata": {},
          "execution_count": 25
        }
      ]
    },
    {
      "cell_type": "code",
      "metadata": {
        "colab": {
          "base_uri": "https://localhost:8080/"
        },
        "id": "ZbojFADE8StA",
        "outputId": "e341db06-fc0f-4da2-f915-5ed8a7444527"
      },
      "source": [
        "scaled_test[0]"
      ],
      "execution_count": 26,
      "outputs": [
        {
          "output_type": "execute_result",
          "data": {
            "text/plain": [
              "array([0.67548077])"
            ]
          },
          "metadata": {},
          "execution_count": 26
        }
      ]
    },
    {
      "cell_type": "markdown",
      "source": [
        "## Predictions"
      ],
      "metadata": {
        "id": "rVcLUha08nkG"
      }
    },
    {
      "cell_type": "code",
      "metadata": {
        "id": "_MP-5Wez8jbY"
      },
      "source": [
        "test_predictions = []\n",
        "\n",
        "first_eval_batch = scaled_train[-n_input:]\n",
        "current_batch = first_eval_batch.reshape((1, n_input, n_features))\n",
        "\n",
        "for i in range(len(test)):\n",
        "    \n",
        "    # get the prediction value for the first batch\n",
        "    current_pred = model.predict(current_batch)[0]\n",
        "    \n",
        "    # append the prediction into the array\n",
        "    test_predictions.append(current_pred) \n",
        "    \n",
        "    # use the prediction to update the batch and remove the first value\n",
        "    current_batch = np.append(current_batch[:,1:,:],[[current_pred]],axis=1)"
      ],
      "execution_count": 27,
      "outputs": []
    },
    {
      "cell_type": "code",
      "metadata": {
        "colab": {
          "base_uri": "https://localhost:8080/"
        },
        "id": "_mhvFuEy8sB7",
        "outputId": "6efc0a07-3c67-49d8-e437-619bb905fe1e"
      },
      "source": [
        "test_predictions"
      ],
      "execution_count": 28,
      "outputs": [
        {
          "output_type": "execute_result",
          "data": {
            "text/plain": [
              "[array([0.67526764], dtype=float32),\n",
              " array([0.63520193], dtype=float32),\n",
              " array([0.8476508], dtype=float32),\n",
              " array([0.9122129], dtype=float32),\n",
              " array([1.0443754], dtype=float32),\n",
              " array([1.0218613], dtype=float32),\n",
              " array([0.93895], dtype=float32),\n",
              " array([0.82537043], dtype=float32),\n",
              " array([0.69271535], dtype=float32),\n",
              " array([0.6497732], dtype=float32),\n",
              " array([0.5847757], dtype=float32),\n",
              " array([0.6332556], dtype=float32)]"
            ]
          },
          "metadata": {},
          "execution_count": 28
        }
      ]
    },
    {
      "cell_type": "code",
      "metadata": {
        "colab": {
          "base_uri": "https://localhost:8080/",
          "height": 238
        },
        "id": "YYSqV10E9hlO",
        "outputId": "f4dc8d90-5c04-4954-ce19-cd4e53920ea5"
      },
      "source": [
        "test.head()"
      ],
      "execution_count": 29,
      "outputs": [
        {
          "output_type": "execute_result",
          "data": {
            "text/html": [
              "\n",
              "  <div id=\"df-4ee85978-8167-4541-bf68-9e8641df3c77\">\n",
              "    <div class=\"colab-df-container\">\n",
              "      <div>\n",
              "<style scoped>\n",
              "    .dataframe tbody tr th:only-of-type {\n",
              "        vertical-align: middle;\n",
              "    }\n",
              "\n",
              "    .dataframe tbody tr th {\n",
              "        vertical-align: top;\n",
              "    }\n",
              "\n",
              "    .dataframe thead th {\n",
              "        text-align: right;\n",
              "    }\n",
              "</style>\n",
              "<table border=\"1\" class=\"dataframe\">\n",
              "  <thead>\n",
              "    <tr style=\"text-align: right;\">\n",
              "      <th></th>\n",
              "      <th>Production</th>\n",
              "    </tr>\n",
              "    <tr>\n",
              "      <th>Date</th>\n",
              "      <th></th>\n",
              "    </tr>\n",
              "  </thead>\n",
              "  <tbody>\n",
              "    <tr>\n",
              "      <th>1975-01-01</th>\n",
              "      <td>834</td>\n",
              "    </tr>\n",
              "    <tr>\n",
              "      <th>1975-02-01</th>\n",
              "      <td>782</td>\n",
              "    </tr>\n",
              "    <tr>\n",
              "      <th>1975-03-01</th>\n",
              "      <td>892</td>\n",
              "    </tr>\n",
              "    <tr>\n",
              "      <th>1975-04-01</th>\n",
              "      <td>903</td>\n",
              "    </tr>\n",
              "    <tr>\n",
              "      <th>1975-05-01</th>\n",
              "      <td>966</td>\n",
              "    </tr>\n",
              "  </tbody>\n",
              "</table>\n",
              "</div>\n",
              "      <button class=\"colab-df-convert\" onclick=\"convertToInteractive('df-4ee85978-8167-4541-bf68-9e8641df3c77')\"\n",
              "              title=\"Convert this dataframe to an interactive table.\"\n",
              "              style=\"display:none;\">\n",
              "        \n",
              "  <svg xmlns=\"http://www.w3.org/2000/svg\" height=\"24px\"viewBox=\"0 0 24 24\"\n",
              "       width=\"24px\">\n",
              "    <path d=\"M0 0h24v24H0V0z\" fill=\"none\"/>\n",
              "    <path d=\"M18.56 5.44l.94 2.06.94-2.06 2.06-.94-2.06-.94-.94-2.06-.94 2.06-2.06.94zm-11 1L8.5 8.5l.94-2.06 2.06-.94-2.06-.94L8.5 2.5l-.94 2.06-2.06.94zm10 10l.94 2.06.94-2.06 2.06-.94-2.06-.94-.94-2.06-.94 2.06-2.06.94z\"/><path d=\"M17.41 7.96l-1.37-1.37c-.4-.4-.92-.59-1.43-.59-.52 0-1.04.2-1.43.59L10.3 9.45l-7.72 7.72c-.78.78-.78 2.05 0 2.83L4 21.41c.39.39.9.59 1.41.59.51 0 1.02-.2 1.41-.59l7.78-7.78 2.81-2.81c.8-.78.8-2.07 0-2.86zM5.41 20L4 18.59l7.72-7.72 1.47 1.35L5.41 20z\"/>\n",
              "  </svg>\n",
              "      </button>\n",
              "      \n",
              "  <style>\n",
              "    .colab-df-container {\n",
              "      display:flex;\n",
              "      flex-wrap:wrap;\n",
              "      gap: 12px;\n",
              "    }\n",
              "\n",
              "    .colab-df-convert {\n",
              "      background-color: #E8F0FE;\n",
              "      border: none;\n",
              "      border-radius: 50%;\n",
              "      cursor: pointer;\n",
              "      display: none;\n",
              "      fill: #1967D2;\n",
              "      height: 32px;\n",
              "      padding: 0 0 0 0;\n",
              "      width: 32px;\n",
              "    }\n",
              "\n",
              "    .colab-df-convert:hover {\n",
              "      background-color: #E2EBFA;\n",
              "      box-shadow: 0px 1px 2px rgba(60, 64, 67, 0.3), 0px 1px 3px 1px rgba(60, 64, 67, 0.15);\n",
              "      fill: #174EA6;\n",
              "    }\n",
              "\n",
              "    [theme=dark] .colab-df-convert {\n",
              "      background-color: #3B4455;\n",
              "      fill: #D2E3FC;\n",
              "    }\n",
              "\n",
              "    [theme=dark] .colab-df-convert:hover {\n",
              "      background-color: #434B5C;\n",
              "      box-shadow: 0px 1px 3px 1px rgba(0, 0, 0, 0.15);\n",
              "      filter: drop-shadow(0px 1px 2px rgba(0, 0, 0, 0.3));\n",
              "      fill: #FFFFFF;\n",
              "    }\n",
              "  </style>\n",
              "\n",
              "      <script>\n",
              "        const buttonEl =\n",
              "          document.querySelector('#df-4ee85978-8167-4541-bf68-9e8641df3c77 button.colab-df-convert');\n",
              "        buttonEl.style.display =\n",
              "          google.colab.kernel.accessAllowed ? 'block' : 'none';\n",
              "\n",
              "        async function convertToInteractive(key) {\n",
              "          const element = document.querySelector('#df-4ee85978-8167-4541-bf68-9e8641df3c77');\n",
              "          const dataTable =\n",
              "            await google.colab.kernel.invokeFunction('convertToInteractive',\n",
              "                                                     [key], {});\n",
              "          if (!dataTable) return;\n",
              "\n",
              "          const docLinkHtml = 'Like what you see? Visit the ' +\n",
              "            '<a target=\"_blank\" href=https://colab.research.google.com/notebooks/data_table.ipynb>data table notebook</a>'\n",
              "            + ' to learn more about interactive tables.';\n",
              "          element.innerHTML = '';\n",
              "          dataTable['output_type'] = 'display_data';\n",
              "          await google.colab.output.renderOutput(dataTable, element);\n",
              "          const docLink = document.createElement('div');\n",
              "          docLink.innerHTML = docLinkHtml;\n",
              "          element.appendChild(docLink);\n",
              "        }\n",
              "      </script>\n",
              "    </div>\n",
              "  </div>\n",
              "  "
            ],
            "text/plain": [
              "            Production\n",
              "Date                  \n",
              "1975-01-01         834\n",
              "1975-02-01         782\n",
              "1975-03-01         892\n",
              "1975-04-01         903\n",
              "1975-05-01         966"
            ]
          },
          "metadata": {},
          "execution_count": 29
        }
      ]
    },
    {
      "cell_type": "code",
      "metadata": {
        "id": "BHHzjNDK9EJZ"
      },
      "source": [
        "true_predictions = scaler.inverse_transform(test_predictions)"
      ],
      "execution_count": 30,
      "outputs": []
    },
    {
      "cell_type": "code",
      "metadata": {
        "id": "0dsN45zf9I9u",
        "colab": {
          "base_uri": "https://localhost:8080/"
        },
        "outputId": "66d0ff45-7b05-4962-c312-d0799b4000f7"
      },
      "source": [
        "test['Predictions'] = true_predictions"
      ],
      "execution_count": 31,
      "outputs": [
        {
          "output_type": "stream",
          "name": "stderr",
          "text": [
            "/usr/local/lib/python3.7/dist-packages/ipykernel_launcher.py:1: SettingWithCopyWarning: \n",
            "A value is trying to be set on a copy of a slice from a DataFrame.\n",
            "Try using .loc[row_indexer,col_indexer] = value instead\n",
            "\n",
            "See the caveats in the documentation: https://pandas.pydata.org/pandas-docs/stable/user_guide/indexing.html#returning-a-view-versus-a-copy\n",
            "  \"\"\"Entry point for launching an IPython kernel.\n"
          ]
        }
      ]
    },
    {
      "cell_type": "code",
      "metadata": {
        "colab": {
          "base_uri": "https://localhost:8080/",
          "height": 362
        },
        "id": "xJ7sI5xh9Lb0",
        "outputId": "d54450e7-b6ed-41d4-e907-6bdea55979b2"
      },
      "source": [
        "test.plot(figsize=(14,5))"
      ],
      "execution_count": 32,
      "outputs": [
        {
          "output_type": "execute_result",
          "data": {
            "text/plain": [
              "<matplotlib.axes._subplots.AxesSubplot at 0x7f559b730e10>"
            ]
          },
          "metadata": {},
          "execution_count": 32
        },
        {
          "output_type": "display_data",
          "data": {
            "image/png": "[encoded data removed]",
            "text/plain": [
              "<Figure size 1008x360 with 1 Axes>"
            ]
          },
          "metadata": {
            "needs_background": "light"
          }
        }
      ]
    },
    {
      "cell_type": "code",
      "metadata": {
        "colab": {
          "base_uri": "https://localhost:8080/"
        },
        "id": "OCsYjzge9OVe",
        "outputId": "b8721ece-6a71-4ef8-86f0-c07c0d743e03"
      },
      "source": [
        "from sklearn.metrics import mean_squared_error\n",
        "from math import sqrt\n",
        "rmse=sqrt(mean_squared_error(test['Production'],test['Predictions']))\n",
        "print(rmse)"
      ],
      "execution_count": 33,
      "outputs": [
        {
          "output_type": "stream",
          "name": "stdout",
          "text": [
            "28.11776313575695\n"
          ]
        }
      ]
    },
    {
      "cell_type": "markdown",
      "source": [
        "## Conclusion"
      ],
      "metadata": {
        "id": "C45J8_7c8z3j"
      }
    },
    {
      "cell_type": "markdown",
      "source": [
        "Hence the Forthcoming Predictions are successfully Forecasted and Plotted against the True Productions."
      ],
      "metadata": {
        "id": "TaRyBnfY817b"
      }
    }
  ]
}